{
 "cells": [
  {
   "cell_type": "code",
   "execution_count": 2,
   "id": "36aa4e04",
   "metadata": {},
   "outputs": [
    {
     "name": "stdout",
     "output_type": "stream",
     "text": [
      "sayeeda gulafshan\n"
     ]
    }
   ],
   "source": [
    "full_name = 'sayeeda gulafshan'\n",
    "print(full_name)"
   ]
  },
  {
   "cell_type": "code",
   "execution_count": 3,
   "id": "d0a5406c",
   "metadata": {},
   "outputs": [],
   "source": [
    "# Req: to get correct format using string method"
   ]
  },
  {
   "cell_type": "code",
   "execution_count": 4,
   "id": "53c37ca5",
   "metadata": {},
   "outputs": [
    {
     "name": "stdout",
     "output_type": "stream",
     "text": [
      "Sayeeda Gulafshan\n"
     ]
    }
   ],
   "source": [
    "print(full_name.title())"
   ]
  },
  {
   "cell_type": "code",
   "execution_count": 5,
   "id": "d7a706ad",
   "metadata": {},
   "outputs": [],
   "source": [
    "# Req: All letters in caps"
   ]
  },
  {
   "cell_type": "code",
   "execution_count": 6,
   "id": "4b3936a3",
   "metadata": {},
   "outputs": [
    {
     "name": "stdout",
     "output_type": "stream",
     "text": [
      "SAYEEDA GULAFSHAN\n"
     ]
    }
   ],
   "source": [
    "print(full_name.upper())"
   ]
  },
  {
   "cell_type": "code",
   "execution_count": 7,
   "id": "22632d2d",
   "metadata": {},
   "outputs": [],
   "source": [
    "# Req: All letters in lowercase "
   ]
  },
  {
   "cell_type": "code",
   "execution_count": 8,
   "id": "3b70810b",
   "metadata": {},
   "outputs": [
    {
     "name": "stdout",
     "output_type": "stream",
     "text": [
      "sayeeda gulafshan\n"
     ]
    }
   ],
   "source": [
    "print(full_name.lower())"
   ]
  },
  {
   "cell_type": "code",
   "execution_count": null,
   "id": "43f76338",
   "metadata": {},
   "outputs": [],
   "source": []
  },
  {
   "cell_type": "code",
   "execution_count": 9,
   "id": "14e0112b",
   "metadata": {},
   "outputs": [],
   "source": [
    "firstname ='sayeeda'\n",
    "lastname = 'gulafshan'"
   ]
  },
  {
   "cell_type": "code",
   "execution_count": 13,
   "id": "1e81d5c2",
   "metadata": {},
   "outputs": [
    {
     "name": "stdout",
     "output_type": "stream",
     "text": [
      "sayeeda gulafshan\n"
     ]
    }
   ],
   "source": [
    "fullname = f\"{firstname} {lastname}\"\n",
    "print(fullname)"
   ]
  },
  {
   "cell_type": "code",
   "execution_count": 15,
   "id": "40513d20",
   "metadata": {},
   "outputs": [
    {
     "name": "stdout",
     "output_type": "stream",
     "text": [
      "Sayeeda Gulafshan\n"
     ]
    }
   ],
   "source": [
    "print(fullname.title())"
   ]
  },
  {
   "cell_type": "code",
   "execution_count": 16,
   "id": "52e77e12",
   "metadata": {},
   "outputs": [],
   "source": [
    "# Req: Appreciation words"
   ]
  },
  {
   "cell_type": "code",
   "execution_count": 20,
   "id": "22158a84",
   "metadata": {},
   "outputs": [
    {
     "name": "stdout",
     "output_type": "stream",
     "text": [
      " keep up the good work,Sayeeda Gulafshan\n"
     ]
    }
   ],
   "source": [
    "print(f\" keep up the good work,{fullname.title()}\")"
   ]
  },
  {
   "cell_type": "code",
   "execution_count": null,
   "id": "2fee01f4",
   "metadata": {},
   "outputs": [],
   "source": [
    "Adding whitespace "
   ]
  },
  {
   "cell_type": "code",
   "execution_count": 25,
   "id": "84fa236b",
   "metadata": {},
   "outputs": [
    {
     "name": "stdout",
     "output_type": "stream",
     "text": [
      "my_fav_lang: \n",
      "python\n",
      "c\n",
      "java\n",
      "cobel\n",
      "c++\n"
     ]
    }
   ],
   "source": [
    "print(\"my_fav_lang: \\npython\\nc\\njava\\ncobel\\nc++\")"
   ]
  },
  {
   "cell_type": "code",
   "execution_count": 27,
   "id": "910f1c9b",
   "metadata": {},
   "outputs": [
    {
     "name": "stdout",
     "output_type": "stream",
     "text": [
      "fav_lang: \n",
      "\tpython\n",
      "\tc\n",
      "\tjava\n",
      "\tcobel\n",
      "\tc++\n"
     ]
    }
   ],
   "source": [
    "print(\"fav_lang: \\n\\tpython\\n\\tc\\n\\tjava\\n\\tcobel\\n\\tc++\")"
   ]
  },
  {
   "cell_type": "code",
   "execution_count": null,
   "id": "9c2c2e49",
   "metadata": {},
   "outputs": [],
   "source": []
  }
 ],
 "metadata": {
  "kernelspec": {
   "display_name": "Python 3",
   "language": "python",
   "name": "python3"
  },
  "language_info": {
   "codemirror_mode": {
    "name": "ipython",
    "version": 3
   },
   "file_extension": ".py",
   "mimetype": "text/x-python",
   "name": "python",
   "nbconvert_exporter": "python",
   "pygments_lexer": "ipython3",
   "version": "3.8.8"
  }
 },
 "nbformat": 4,
 "nbformat_minor": 5
}
